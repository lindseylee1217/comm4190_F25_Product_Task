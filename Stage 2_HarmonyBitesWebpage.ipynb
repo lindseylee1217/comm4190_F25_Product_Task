{
 "cells": [
  {
   "cell_type": "markdown",
   "id": "751d047f-8ce4-4e0e-983e-2e6089b81722",
   "metadata": {
    "editable": true,
    "slideshow": {
     "slide_type": ""
    },
    "tags": []
   },
   "source": [
    "## A-B Testing using an LLM"
   ]
  },
  {
   "cell_type": "markdown",
   "id": "5af75e20-8e9a-440f-a2dc-34e5db2fc996",
   "metadata": {},
   "source": [
    "### Setup"
   ]
  },
  {
   "cell_type": "code",
   "execution_count": 3,
   "id": "bc554596-0adb-4659-a9c8-e462f0a8f6ee",
   "metadata": {
    "editable": true,
    "slideshow": {
     "slide_type": ""
    },
    "tags": []
   },
   "outputs": [],
   "source": [
    "from openai import OpenAI\n",
    "import os\n",
    "import base64\n",
    "import requests\n",
    "\n",
    "from collections import Counter\n",
    "\n",
    "from IPython.display import display, Markdown, Image\n",
    "\n",
    "\n",
    "from dotenv import load_dotenv\n",
    "# Load API key\n",
    "_ = load_dotenv()\n",
    "\n",
    "\n"
   ]
  },
  {
   "cell_type": "code",
   "execution_count": 4,
   "id": "fb0b6ebe-74cc-437e-91d0-54e9263136d3",
   "metadata": {},
   "outputs": [],
   "source": [
    "\n",
    "def query_LLM(messages=None, prompt=None, model='gpt-4o'):\n",
    "\n",
    "    if messages is None and prompt:\n",
    "        messages = [{ \"role\": \"user\", \"content\": prompt }]\n",
    "    elif messages is None:\n",
    "        return None\n",
    "        \n",
    "    completion = client.chat.completions.create(\n",
    "      model=model,\n",
    "      messages=messages\n",
    "    )\n",
    "    \n",
    "    response = completion.choices[0].message.content\n",
    "\n",
    "    return response"
   ]
  },
  {
   "cell_type": "code",
   "execution_count": 5,
   "id": "b3ca6412-ab09-4d50-b965-4ef89e307651",
   "metadata": {},
   "outputs": [],
   "source": [
    "client = OpenAI()"
   ]
  },
  {
   "cell_type": "markdown",
   "id": "30370fa3-50ae-4cff-84ad-0c79e1f89fc3",
   "metadata": {
    "editable": true,
    "slideshow": {
     "slide_type": ""
    },
    "tags": []
   },
   "source": [
    "# Product Websites "
   ]
  },
  {
   "cell_type": "markdown",
   "id": "659421d6-6e66-4a6c-9110-5938f9d309f1",
   "metadata": {},
   "source": [
    "* **We used ChatGPT 4o to generate the product webpage markdown file.**\n",
    "\n",
    "*  **Prompt**\n",
    "> Generate a product webpage for a new product called [NAME]. [DESCRIPTION]. Include a description and features and testimonials\n",
    "\n",
    "* **Product Name & Descriptions**\n",
    "    1. ProductA\n",
    "    2. ProductB"
   ]
  },
  {
   "cell_type": "markdown",
   "id": "ef648d30-b0cc-4ae7-936e-94c6b36b399f",
   "metadata": {},
   "source": [
    "### **HarmonyBites**\n",
    "\n",
    "   *Print. Plate. Perfect.*\n",
    "\n",
    "Description: Our 3D food printer brings the future of dining into your kitchen with personalized nutrition at your fingertips. Using a modular system of nutrient-rich “food inks,” the printer crafts meals tailored to your individual health profile—whether you’re focused on fitness goals, managing dietary restrictions, or simply seeking balanced nutrition. With precise macro control, zero-waste portions, and endless recipe possibilities, this smart appliance transforms how we think about food: customized, convenient, and sustainable.\n",
    "\n"
   ]
  },
  {
   "cell_type": "code",
   "execution_count": 6,
   "id": "be013410-980c-404c-929a-99565a078711",
   "metadata": {},
   "outputs": [],
   "source": [
    "productA = open('productA.md').read()\n",
    "productB = open('productB.md').read()"
   ]
  },
  {
   "cell_type": "code",
   "execution_count": 12,
   "id": "5153d481-ff24-482f-9791-9ce9543cfbdd",
   "metadata": {},
   "outputs": [
    {
     "data": {
      "text/markdown": [],
      "text/plain": [
       "<IPython.core.display.Markdown object>"
      ]
     },
     "metadata": {},
     "output_type": "display_data"
    }
   ],
   "source": [
    "display(Markdown(productB))"
   ]
  },
  {
   "cell_type": "markdown",
   "id": "1527c189-35f5-47ce-a9ff-db593e444928",
   "metadata": {},
   "source": [
    "# HarmonyBites\n",
    "<img src=\"logo.png\"> \n",
    "\n",
    "**Print. Plate. Perfect.** \n",
    "\n",
    "---\n",
    "\n",
    "### Welcome to the Future of Food\n",
    "\n",
    "Say hello to **HarmonyBites**, the revolutionary 3D food printer that personalizes nutrition and redefines home dining. Engineered for wellness, sustainability, and convenience, HarmonyBites delivers balanced, delicious meals at the push of a button.\n",
    "\n",
    "Whether you’re tracking macros for your next marathon, managing food sensitivities, or just craving a smarter, cleaner way to eat—this is your new kitchen essential.\n",
    "\n",
    "---\n",
    "\n",
    "### Product Description\n",
    "\n",
    "**Personalized nutrition at your fingertips.** Using a modular system of nutrient-rich \"food inks,\" HarmonyBites crafts customized meals based on your health profile, dietary goals, or daily needs. No prep, no waste, no compromise. Just clean, smart food designed for your body and lifestyle.\n",
    "\n",
    "---\n",
    "\n",
    "## 🧩 How It Works\n",
    "\n",
    "| Step 1 | Step 2 | Step 3 |\n",
    "|--------|--------|--------|\n",
    "| **Select your dietary goals** | **Insert nutrient-rich inks** | **Print your custom meal** |\n",
    "\n",
    "[Pre-Order Now](#)\n",
    "\n",
    "---\n",
    "\n",
    "## ✨ Key Benefits\n",
    "\n",
    "- **Personalized Nutrition**  \n",
    "  Match your dietary goals with customized meal printing.\n",
    "\n",
    "- **Zero Waste**  \n",
    "  Print exact portions with minimal cleanup and compostable materials.\n",
    "\n",
    "- **Modular Food Inks**  \n",
    "  Swap cartridges based on your nutrition style (vegan, keto, high-protein, etc.).\n",
    "\n",
    "- **Endless Recipes**  \n",
    "  Choose from chef- and dietitian-approved meal designs.\n",
    "\n",
    "---\n",
    "\n",
    "## 🍽️ Meal Gallery\n",
    "\n",
    "[Meal 1]\n",
    "\n",
    "[Meal 2]\n",
    "\n",
    "[Meal 3]\n",
    "\n",
    "_(More visuals coming soon.)_\n",
    "\n",
    "---\n",
    "\n",
    "## 💬 Testimonials\n",
    "\n",
    "> **\"It’s like having a personal chef and nutritionist in one. I’ve never eaten so clean and felt so in control of my diet.\"**\n",
    "— *Jasmine R., CrossFit Coach*\n",
    "\n",
    "> **\"HarmonyBites is a total game-changer. I can finally manage my food allergies without boring meals or stress.\"**\n",
    "— *Michael S., Food Allergy Advocate*\n",
    "\n",
    "> **\"I thought 3D printing food was sci-fi. Now it’s just my Tuesday dinner.\"**\n",
    "— *Luis M., Tech Blogger*\n",
    "\n",
    "---\n",
    "\n",
    "## ⚙️ Features\n",
    "\n",
    "- **Precise Macro Control**  \n",
    "  Sync your app and get perfectly portioned, goal-aligned meals.\n",
    "\n",
    "- **Mobile App Integration**  \n",
    "  Customize meals, track nutrition, and reorder inks from anywhere.\n",
    "\n",
    "- **Touchscreen Interface**  \n",
    "  Intuitive on-device controls for quick meals on the go.\n",
    "\n",
    "---\n",
    "\n",
    "## 🛒 Ready to Try HarmonyBites?\n",
    "\n",
    "Join the movement toward smarter, cleaner eating.  \n",
    "[Pre-Order Yours Now](#) | [Watch a Demo](#)\n",
    "\n",
    "---\n"
   ]
  }
 ],
 "metadata": {
  "kernelspec": {
   "display_name": "Python 3-12 (COMM4190)",
   "language": "python",
   "name": "python3-12_comm4190"
  },
  "language_info": {
   "codemirror_mode": {
    "name": "ipython",
    "version": 3
   },
   "file_extension": ".py",
   "mimetype": "text/x-python",
   "name": "python",
   "nbconvert_exporter": "python",
   "pygments_lexer": "ipython3",
   "version": "3.12.11"
  }
 },
 "nbformat": 4,
 "nbformat_minor": 5
}
