{
 "cells": [
  {
   "cell_type": "markdown",
   "id": "365d00e7-7303-4d4f-b390-11f1c4ee5b5e",
   "metadata": {
    "editable": true,
    "slideshow": {
     "slide_type": ""
    },
    "tags": []
   },
   "source": [
    "## A-B Testing using an LLM"
   ]
  },
  {
   "cell_type": "markdown",
   "id": "4d746a6e-b475-4ea2-a3e2-740706037fca",
   "metadata": {},
   "source": [
    "### Setup"
   ]
  },
  {
   "cell_type": "code",
   "execution_count": 1,
   "id": "833b3630-5e37-434f-b736-ad47990d0633",
   "metadata": {
    "editable": true,
    "slideshow": {
     "slide_type": ""
    },
    "tags": []
   },
   "outputs": [],
   "source": [
    "from openai import OpenAI\n",
    "import os\n",
    "import base64\n",
    "import requests\n",
    "\n",
    "from collections import Counter\n",
    "\n",
    "from IPython.display import display, Markdown, Image\n",
    "\n",
    "\n",
    "from dotenv import load_dotenv\n",
    "# Load API key\n",
    "_ = load_dotenv()\n",
    "\n",
    "\n"
   ]
  },
  {
   "cell_type": "code",
   "execution_count": 2,
   "id": "5a5bd61b-b19d-45b5-a42e-08824e607f89",
   "metadata": {},
   "outputs": [],
   "source": [
    "\n",
    "def query_LLM(messages=None, prompt=None, model='gpt-4o'):\n",
    "\n",
    "    if messages is None and prompt:\n",
    "        messages = [{ \"role\": \"user\", \"content\": prompt }]\n",
    "    elif messages is None:\n",
    "        return None\n",
    "        \n",
    "    completion = client.chat.completions.create(\n",
    "      model=model,\n",
    "      messages=messages\n",
    "    )\n",
    "    \n",
    "    response = completion.choices[0].message.content\n",
    "\n",
    "    return response"
   ]
  },
  {
   "cell_type": "code",
   "execution_count": 9,
   "id": "3abebbc9-475c-41ca-8152-da4757a88855",
   "metadata": {},
   "outputs": [],
   "source": [
    "client = OpenAI()"
   ]
  },
  {
   "cell_type": "markdown",
   "id": "6fbc9e88-f090-4ec3-a90b-da781f43f6bb",
   "metadata": {
    "editable": true,
    "slideshow": {
     "slide_type": ""
    },
    "tags": []
   },
   "source": [
    "# Product Websites "
   ]
  },
  {
   "cell_type": "markdown",
   "id": "c36c653c-ff46-4ca8-be12-7b8a45211647",
   "metadata": {},
   "source": [
    "* **We used ChatGPT 4o to generate the product webpage markdown file.**\n",
    "\n",
    "*  **Prompt**\n",
    "> Generate a product webpage for a new product called [NAME]. [DESCRIPTION]. Include a description and features and testimonials.\n",
    "\n",
    "* **Product Name & Descriptions**\n",
    "    1. ProductA\n",
    "    2. ProductB"
   ]
  },
  {
   "cell_type": "markdown",
   "id": "04c6719b-f7d5-4cf4-b228-86aa347912b8",
   "metadata": {},
   "source": [
    "It doesn’t have to be a full working website or even a web page… you can use a notebook and Markdown.\n",
    "But the goal is to have all the components for a product marketing webpage.\n",
    "Product Name\n",
    "Logo\n",
    "Slogan/descriptives\n",
    "Features\n",
    "Maybe reviews or endorsements etc."
   ]
  },
  {
   "cell_type": "code",
   "execution_count": 3,
   "id": "015a8d4a-4304-4c63-9e0d-1c1a462856c9",
   "metadata": {},
   "outputs": [],
   "source": [
    "productA = open('productA.md').read()\n",
    "productB = open('productB.md').read()"
   ]
  },
  {
   "cell_type": "code",
   "execution_count": 4,
   "id": "5c819be1-9a09-4e39-8f83-2b0cf9f0ba54",
   "metadata": {},
   "outputs": [
    {
     "data": {
      "text/markdown": [],
      "text/plain": [
       "<IPython.core.display.Markdown object>"
      ]
     },
     "metadata": {},
     "output_type": "display_data"
    }
   ],
   "source": [
    "display(Markdown(productA))"
   ]
  },
  {
   "cell_type": "code",
   "execution_count": 5,
   "id": "bc7285bd-9746-4307-8743-3397eb98deb0",
   "metadata": {},
   "outputs": [
    {
     "data": {
      "text/markdown": [],
      "text/plain": [
       "<IPython.core.display.Markdown object>"
      ]
     },
     "metadata": {},
     "output_type": "display_data"
    }
   ],
   "source": [
    "display(Markdown(productB))"
   ]
  },
  {
   "cell_type": "markdown",
   "id": "a2b75a9b-77e6-45a8-b95b-cd29436a180b",
   "metadata": {},
   "source": [
    "# A-B Testing"
   ]
  },
  {
   "cell_type": "markdown",
   "id": "7ac7ac41-d921-4434-b791-9ece39d907f7",
   "metadata": {},
   "source": [
    "## (1) Compare Descriptions "
   ]
  },
  {
   "cell_type": "code",
   "execution_count": 13,
   "id": "875741a5-ecbc-4fbd-b0e3-025c72c0ba5a",
   "metadata": {},
   "outputs": [],
   "source": [
    "system_prompt = \"You are consumer who is in need of an easy way to prepare your meals that is affordable, creative, and customizable.\"\n",
    "\n",
    "rating_prompt = f'''\n",
    "   Read the websites for each of these two products\n",
    "   1. HarmonyBites\n",
    "   2. Bytes\n",
    "\n",
    "   {productA}\n",
    "\n",
    "   ----\n",
    "\n",
    "   {productB}\n",
    "\n",
    "   ----\n",
    "   \n",
    "   Pay careful attention to the features, descriptions and user reviews.\n",
    "\n",
    "   Rate each product on scale of 0 (never buy) to 10 (buy immediately).\n",
    "   Show just your ratings and which product you prefer.\n",
    "   Then briefly explain your ratings\n",
    "'''"
   ]
  },
  {
   "cell_type": "code",
   "execution_count": 15,
   "id": "d6789536-511e-423e-9725-8a2b4ad61d28",
   "metadata": {},
   "outputs": [],
   "source": [
    "consumers = [\n",
    "    \"cyclist, male, 50s, with low vision\",\n",
    "    \"cyclist, female, 30s\",\n",
    "    \"non-cyclist, male, 50s\",\n",
    "    \"non-cyclist, female, 30s\"\n",
    "]"
   ]
  },
  {
   "cell_type": "code",
   "execution_count": 16,
   "id": "d33f5ef1-30f1-40d8-a46a-78202e9ef13d",
   "metadata": {
    "editable": true,
    "slideshow": {
     "slide_type": ""
    },
    "tags": []
   },
   "outputs": [
    {
     "name": "stdout",
     "output_type": "stream",
     "text": [
      "\n",
      "-----\n",
      "cyclist, male, 50s, with low vision\n",
      "1. NeverHitATree: 7\n",
      "2. TreeAlert AR: 8\n",
      "\n",
      "I prefer the TreeAlert AR.\n",
      "\n",
      "Explanation:\n",
      "\n",
      "- NeverHitATree: This product provides basic alert functionality for avoiding trees and other large obstacles while cycling. It has decent user reviews but lacks advanced features like augmented reality integration, which may limit its efficacy for someone with low vision.\n",
      "\n",
      "- TreeAlert AR: This product incorporates augmented reality features, providing a more immersive and intuitive navigation experience. It has strong user reviews, indicating its usefulness in real-life cycling scenarios. The augmented reality technology is particularly beneficial for individuals with low vision by offering clearer visual cues. \n",
      "\n",
      "\n",
      "-----\n",
      "cyclist, female, 30s\n",
      "**NeverHitATree: 7/10**  \n",
      "**TreeAlert AR: 9/10**\n",
      "\n",
      "**Preferred Product: TreeAlert AR**\n",
      "\n",
      "**Explanation:**\n",
      "1. **NeverHitATree: 7/10**\n",
      "   - **Features:** Focuses on using sensors to detect trees and potentially hazardous obstacles for cyclists, providing alerts to avoid collisions.\n",
      "   - **Description:** It's designed to increase cyclist safety by reducing the likelihood of hitting a tree, especially in dense forest trails or poorly lit areas.\n",
      "   - **User Reviews:** Generally positive in terms of effectiveness and reliability, though some users noted that the installation process can be somewhat complicated and the system can sometimes give false alarms depending on environmental factors.\n",
      "\n",
      "2. **TreeAlert AR: 9/10**\n",
      "   - **Features:** Employs augmented reality (AR) technology to visually highlight obstacles ahead, such as trees and branches, directly in the cyclist’s field of view, integrating smoothly with helmets and glasses.\n",
      "   - **Description:** This product is very innovative, using AR to enhance situational awareness without distracting the cyclist. \n",
      "   - **User Reviews:** Users have praised its ease of use and real-time updates. Most reviews indicated that the AR aspect significantly enhanced their biking experience without causing any additional burden. The installation and initial setup are reportedly user-friendly and quick.\n",
      "\n",
      "I prefer TreeAlert AR because of its advanced technology that not only identifies obstacles but does so in a way that integrates seamlessly with a cyclist's natural visual cues, improving overall biking safety. \n",
      "\n",
      "\n",
      "-----\n",
      "non-cyclist, male, 50s\n",
      "I'm sorry, I am unable to browse the internet or read external websites from here. However, I can assist with guidance on how to evaluate these products if you provide me with descriptions or information about their features and user reviews. Once I have that information, I can help provide an assessment or ratings based on what is typically known for such products. \n",
      "\n",
      "\n",
      "-----\n",
      "non-cyclist, female, 30s\n",
      "**NeverHitATree:** 7\n",
      "\n",
      "**TreeAlert AR:** 6\n",
      "\n",
      "**Preferred product:** NeverHitATree\n",
      "\n",
      "**Explanation:**\n",
      "As a non-cyclist, the features and functionality of these products are somewhat interesting but not particularly relevant to my current needs. However, evaluating them from a consumer perspective:\n",
      "\n",
      "1. **NeverHitATree** offers a comprehensive array of features that could enhance cycling safety, such as real-time alerts and collision avoidance systems. The user reviews highlight its reliability and the sense of security it provides, which for anyone considering cycling is a strong selling point. Its focus on proactive safety measures is commendable.\n",
      "\n",
      "2. **TreeAlert AR** presents an innovative use of augmented reality for navigation and awareness, which adds an engaging tech-savvy layer to outdoor activities like cycling. While this is likely exciting for tech enthusiasts, user reviews suggest that it might be slightly more complex to use effectively during high-speed cycling activities. The requirement to interact visually with an AR interface could also be considered a distraction.\n",
      "\n",
      "Given these insights, I would be more inclined to recommend NeverHitATree, especially for someone who values straightforward, effective safety solutions over potentially distracting tech features. \n",
      "\n"
     ]
    }
   ],
   "source": [
    "for consumer in consumers:\n",
    "    print(f\"\\n-----\\n{consumer}\")\n",
    "\n",
    "    messages = [\n",
    "       {\"role\": \"system\", \"content\": system_prompt.format(description=consumer)},\n",
    "       {\"role\": \"system\", \"content\": rating_prompt}\n",
    "    ]\n",
    "\n",
    "    response = query_LLM(messages=messages)\n",
    "\n",
    "    print(response,'\\n')"
   ]
  }
 ],
 "metadata": {
  "kernelspec": {
   "display_name": "Python 3-12 (COMM4190)",
   "language": "python",
   "name": "python3-12_comm4190"
  },
  "language_info": {
   "codemirror_mode": {
    "name": "ipython",
    "version": 3
   },
   "file_extension": ".py",
   "mimetype": "text/x-python",
   "name": "python",
   "nbconvert_exporter": "python",
   "pygments_lexer": "ipython3",
   "version": "3.12.11"
  }
 },
 "nbformat": 4,
 "nbformat_minor": 5
}
